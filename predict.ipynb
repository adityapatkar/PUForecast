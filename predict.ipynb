{
  "nbformat": 4,
  "nbformat_minor": 0,
  "metadata": {
    "colab": {
      "provenance": []
    },
    "kernelspec": {
      "name": "python3",
      "display_name": "Python 3"
    },
    "language_info": {
      "name": "python"
    }
  },
  "cells": [
    {
      "cell_type": "code",
      "source": [
        "import os\n",
        "\n",
        "from google.colab import files\n",
        "from google.colab import drive\n",
        "drive.mount('/content/gdrive/', force_remount=True)\n",
        "os.chdir('gdrive/My Drive/MSML 604 Project')"
      ],
      "metadata": {
        "colab": {
          "base_uri": "https://localhost:8080/"
        },
        "id": "4CVZy7TXEz7h",
        "outputId": "4174422e-ff44-4657-c46d-c165cb4ca6c7"
      },
      "execution_count": null,
      "outputs": [
        {
          "output_type": "stream",
          "name": "stdout",
          "text": [
            "Mounted at /content/gdrive/\n"
          ]
        }
      ]
    },
    {
      "cell_type": "code",
      "execution_count": null,
      "metadata": {
        "id": "lB5CsoLcDcgz"
      },
      "outputs": [],
      "source": [
        "import torch\n",
        "import numpy as np\n",
        "import time\n",
        "\n"
      ]
    },
    {
      "cell_type": "code",
      "source": [
        "def puf_query(c, w):\n",
        "    n = c.shape[1]\n",
        "    phi = np.ones(n+1)\n",
        "    phi[n] = 1\n",
        "    for i in range(n-1, -1, -1):\n",
        "        phi[i] = (2*c[0,i]-1)*phi[i+1]\n",
        "\n",
        "    r = (np.dot(phi, w) > 0)\n",
        "    return r\n",
        "    "
      ],
      "metadata": {
        "id": "hkXVUeQLSl39"
      },
      "execution_count": null,
      "outputs": []
    },
    {
      "cell_type": "code",
      "source": [
        "# Problem Setup\n",
        "target = 0.99  # The desired prediction rate\n",
        "n = 64  # number of stages in the PUF\n",
        "\n",
        "# Initialize the PUF\n",
        "np.random.seed(int(time.time()))\n",
        "data = np.loadtxt('weight_diff.txt')\n",
        "w = np.zeros((n+1, 1))\n",
        "for i in range(1, n+2):\n",
        "    randi_offset = np.random.randint(1, len(data)+1)\n",
        "    w[i-1] = data[randi_offset-1]\n",
        "\n",
        "# Syntax to query the PUF:\n",
        "c = np.random.randint(0, 2, size=(1, n))  # a random challenge vector\n",
        "r = puf_query(c, w)\n",
        "# you may remove these two lines"
      ],
      "metadata": {
        "id": "RN0HgedjKX54"
      },
      "execution_count": null,
      "outputs": []
    },
    {
      "cell_type": "code",
      "source": [
        "\n",
        "# You can use the puf_query function to generate your training dataset\n",
        "# ADD YOUR DATASET GENERATION CODE HERE\n",
        "training_size = 10\n",
        "training_cw = []\n",
        "training_r = []\n",
        "\n",
        "for i in range(0,training_size):\n",
        "  c = np.random.randint(0, 2, size=(1, n))  # a random challenge vector\n",
        "  r = puf_query(c, w)\n",
        "  training_cw.append([c,  w])\n",
        "  training_r.append(r)\n",
        "\n",
        "training_cw = np.array(training_cw)\n",
        "training_r = np.array(training_r)"
      ],
      "metadata": {
        "id": "2VtdEzPJCVCx",
        "colab": {
          "base_uri": "https://localhost:8080/"
        },
        "outputId": "bf10ae8e-8230-42aa-befa-132792b8bab6"
      },
      "execution_count": null,
      "outputs": [
        {
          "output_type": "stream",
          "name": "stderr",
          "text": [
            "<ipython-input-57-e99cddd5e996>:13: VisibleDeprecationWarning: Creating an ndarray from ragged nested sequences (which is a list-or-tuple of lists-or-tuples-or ndarrays with different lengths or shapes) is deprecated. If you meant to do this, you must specify 'dtype=object' when creating the ndarray.\n",
            "  training_cw = np.array(training_cw)\n"
          ]
        }
      ]
    },
    {
      "cell_type": "code",
      "source": [
        "torch.tensor(training_cw[:,0])"
      ],
      "metadata": {
        "colab": {
          "base_uri": "https://localhost:8080/",
          "height": 165
        },
        "id": "0bYwf3IOScQF",
        "outputId": "19c345b6-55b5-42b7-e894-a3992b13b0b8"
      },
      "execution_count": null,
      "outputs": [
        {
          "output_type": "error",
          "ename": "TypeError",
          "evalue": "ignored",
          "traceback": [
            "\u001b[0;31m---------------------------------------------------------------------------\u001b[0m",
            "\u001b[0;31mTypeError\u001b[0m                                 Traceback (most recent call last)",
            "\u001b[0;32m<ipython-input-71-1db1f71fdd8c>\u001b[0m in \u001b[0;36m<cell line: 1>\u001b[0;34m()\u001b[0m\n\u001b[0;32m----> 1\u001b[0;31m \u001b[0mtorch\u001b[0m\u001b[0;34m.\u001b[0m\u001b[0mtensor\u001b[0m\u001b[0;34m(\u001b[0m\u001b[0mtraining_cw\u001b[0m\u001b[0;34m[\u001b[0m\u001b[0;34m:\u001b[0m\u001b[0;34m,\u001b[0m\u001b[0;36m0\u001b[0m\u001b[0;34m]\u001b[0m\u001b[0;34m)\u001b[0m\u001b[0;34m\u001b[0m\u001b[0;34m\u001b[0m\u001b[0m\n\u001b[0m",
            "\u001b[0;31mTypeError\u001b[0m: can't convert np.ndarray of type numpy.object_. The only supported types are: float64, float32, float16, complex64, complex128, int64, int32, int16, int8, uint8, and bool."
          ]
        }
      ]
    },
    {
      "cell_type": "code",
      "source": [
        "\n",
        "w0 = np.zeros((n+1, 1))  # The estimated value of w.\n",
        "# Try to estimate the value of w here. This section will be timed. You are\n",
        "# allowed to use the puf_query function here too, but it will count towards\n",
        "# the training time.\n",
        "t0 = time.process_time()\n",
        "# ADD YOUR TRAINING CODE HERE\n",
        "for i in range(1, n+2):\n",
        "    randi_offset = np.random.randint(1, len(data)+1)\n",
        "    w0[i-1] = data[randi_offset-1]\n",
        "\n",
        "t1 = time.process_time()\n",
        "training_time = t1 - t0  # time taken to get w0\n",
        "print(\"Training time:\", training_time)\n",
        "print(\"Training size:\", training_size)\n",
        "\n",
        "\n",
        "\n"
      ],
      "metadata": {
        "colab": {
          "base_uri": "https://localhost:8080/"
        },
        "id": "Sb3TflMQNC_c",
        "outputId": "296fede8-0b43-4fd9-bbcd-5c0e4269c308"
      },
      "execution_count": null,
      "outputs": [
        {
          "output_type": "stream",
          "name": "stdout",
          "text": [
            "Training time: 0.0006878219999961743\n",
            "Training size: 100\n"
          ]
        }
      ]
    },
    {
      "cell_type": "code",
      "source": [
        "# Evaluate your result\n",
        "n_test = 10000\n",
        "correct = 0\n",
        "for i in range(1, n_test+1):\n",
        "    c_test = np.random.randint(0, 2, size=(1, n))  # a random challenge vector\n",
        "    r = puf_query(c_test, w)\n",
        "    r0 = puf_query(c_test, w0)\n",
        "    correct += (r==r0)\n",
        "\n",
        "success_rate = correct/n_test\n",
        "print(\"Success rate:\", success_rate)\n",
        "\n",
        "# If the success rate is less than 99%, a penalty time will be added\n",
        "# One second is add for each 0.01% below 99%.\n",
        "effective_training_time = training_time\n",
        "if success_rate < 0.99:\n",
        "    effective_training_time = training_time + 10000*(0.99-success_rate)\n",
        "print(\"Effective training time:\", effective_training_time)"
      ],
      "metadata": {
        "colab": {
          "base_uri": "https://localhost:8080/"
        },
        "id": "0iUN5KH5PQlp",
        "outputId": "5fa591f0-81a8-43e1-c529-95b89965af75"
      },
      "execution_count": null,
      "outputs": [
        {
          "output_type": "stream",
          "name": "stdout",
          "text": [
            "Success rate: [0.4698]\n",
            "Effective training time: [5202.00068782]\n"
          ]
        }
      ]
    }
  ]
}