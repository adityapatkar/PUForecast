{
  "nbformat": 4,
  "nbformat_minor": 0,
  "metadata": {
    "colab": {
      "provenance": []
    },
    "kernelspec": {
      "name": "python3",
      "display_name": "Python 3"
    },
    "language_info": {
      "name": "python"
    }
  },
  "cells": [
    {
      "cell_type": "code",
      "source": [
        "import os\n",
        "\n",
        "from google.colab import files\n",
        "from google.colab import drive\n",
        "drive.mount('/content/gdrive/', force_remount=True)\n",
        "os.chdir('gdrive/My Drive/MSML 604 Project')"
      ],
      "metadata": {
        "colab": {
          "base_uri": "https://localhost:8080/"
        },
        "id": "4CVZy7TXEz7h",
        "outputId": "901298b5-04ad-4cf1-ffc0-69b1f1f8fb13"
      },
      "execution_count": 1,
      "outputs": [
        {
          "output_type": "stream",
          "name": "stdout",
          "text": [
            "Mounted at /content/gdrive/\n"
          ]
        }
      ]
    },
    {
      "cell_type": "code",
      "execution_count": 2,
      "metadata": {
        "id": "lB5CsoLcDcgz"
      },
      "outputs": [],
      "source": [
        "import torch\n",
        "import numpy as np\n",
        "import time\n",
        "from sklearn.model_selection import train_test_split\n",
        "\n"
      ]
    },
    {
      "cell_type": "code",
      "source": [
        "def puf_query(c, w):\n",
        "    n = c.shape[1]\n",
        "    phi = np.ones(n+1)\n",
        "    phi[n] = 1\n",
        "    for i in range(n-1, -1, -1):\n",
        "        phi[i] = (2*c[0,i]-1)*phi[i+1]\n",
        "\n",
        "    r = (np.dot(phi, w) > 0)\n",
        "    return r\n",
        "    "
      ],
      "metadata": {
        "id": "hkXVUeQLSl39"
      },
      "execution_count": 3,
      "outputs": []
    },
    {
      "cell_type": "code",
      "source": [
        "# Problem Setup\n",
        "target = 0.99  # The desired prediction rate\n",
        "n = 64  # number of stages in the PUF\n",
        "\n",
        "# Initialize the PUF\n",
        "np.random.seed(int(time.time()))\n",
        "data = np.loadtxt('weight_diff.txt')\n",
        "w = np.zeros((n+1, 1))\n",
        "for i in range(1, n+2):\n",
        "    randi_offset = np.random.randint(1, len(data)+1)\n",
        "    w[i-1] = data[randi_offset-1]\n",
        "\n",
        "# Syntax to query the PUF:\n",
        "c = np.random.randint(0, 2, size=(1, n))  # a random challenge vector\n",
        "r = puf_query(c, w)\n",
        "# you may remove these two lines"
      ],
      "metadata": {
        "id": "RN0HgedjKX54"
      },
      "execution_count": 4,
      "outputs": []
    },
    {
      "cell_type": "code",
      "source": [
        "\n",
        "# You can use the puf_query function to generate your training dataset\n",
        "# ADD YOUR DATASET GENERATION CODE HERE\n",
        "training_size = 10000\n",
        "training_c = []\n",
        "training_r = []\n",
        "\n",
        "for i in range(0,training_size):\n",
        "  c = np.random.randint(0, 2, size=(1, n))  # a random challenge vector\n",
        "  r = puf_query(c, w)\n",
        "\n",
        "  n = c.shape[1]\n",
        "  phi = np.ones(n+1)\n",
        "  phi[n] = 1\n",
        "  for j in range(n-1, -1, -1):\n",
        "        phi[j] = (2*c[0,j]-1)*phi[j+1]\n",
        "  training_c.append(phi)\n",
        "  training_r.append(r)\n",
        "  if i % 1000 == 0:\n",
        "    print(i)\n",
        "\n",
        "\n",
        "training_c = np.array(training_c).reshape(training_size,-1)\n",
        "training_r = np.array(training_r).reshape(training_size,-1)"
      ],
      "metadata": {
        "id": "2VtdEzPJCVCx",
        "colab": {
          "base_uri": "https://localhost:8080/"
        },
        "outputId": "fac6f36c-998b-40a3-f6d0-a8b4d1797e73"
      },
      "execution_count": 48,
      "outputs": [
        {
          "output_type": "stream",
          "name": "stdout",
          "text": [
            "0\n",
            "1000\n",
            "2000\n",
            "3000\n",
            "4000\n",
            "5000\n",
            "6000\n",
            "7000\n",
            "8000\n",
            "9000\n"
          ]
        }
      ]
    },
    {
      "cell_type": "code",
      "source": [
        "# X_train, X_test, y_train, y_test = train_test_split(training_c, training_r, test_size=0.20, random_state=42)"
      ],
      "metadata": {
        "id": "0bYwf3IOScQF"
      },
      "execution_count": 44,
      "outputs": []
    },
    {
      "cell_type": "code",
      "source": [
        "from sklearn.ensemble import AdaBoostClassifier\n",
        "\n",
        "w0 = np.zeros((n+1, 1))  # The estimated value of w.\n",
        "# Try to estimate the value of w here. This section will be timed. You are\n",
        "# allowed to use the puf_query function here too, but it will count towards\n",
        "# the training time.\n",
        "t0 = time.process_time()\n",
        "# ADD YOUR TRAINING CODE HERE\n",
        "\n",
        "\n",
        "\n",
        "model = AdaBoostClassifier()\n",
        "model.fit(training_c, training_r)\n",
        "\n",
        "# for i in range(1, n+2):\n",
        "#     randi_offset = np.random.randint(1, len(data)+1)\n",
        "#     w0[i-1] = data[randi_offset-1]\n",
        "\n",
        "\n",
        "\n",
        "t1 = time.process_time()\n",
        "training_time = t1 - t0  # time taken to get w0\n",
        "print(\"Training time:\", training_time)\n",
        "print(\"Training size:\", training_size)\n",
        "\n",
        "\n",
        "\n"
      ],
      "metadata": {
        "colab": {
          "base_uri": "https://localhost:8080/"
        },
        "id": "Sb3TflMQNC_c",
        "outputId": "7303de16-f3af-42a3-b457-f79e627738a3"
      },
      "execution_count": 58,
      "outputs": [
        {
          "output_type": "stream",
          "name": "stderr",
          "text": [
            "/usr/local/lib/python3.10/dist-packages/sklearn/utils/validation.py:1143: DataConversionWarning: A column-vector y was passed when a 1d array was expected. Please change the shape of y to (n_samples, ), for example using ravel().\n",
            "  y = column_or_1d(y, warn=True)\n"
          ]
        },
        {
          "output_type": "stream",
          "name": "stdout",
          "text": [
            "Training time: 0.7891405770001256\n",
            "Training size: 10000\n"
          ]
        }
      ]
    },
    {
      "cell_type": "code",
      "source": [
        "# Evaluate your result\n",
        "n_test = 10000\n",
        "correct = 0\n",
        "for i in range(1, n_test+1):\n",
        "    c_test = np.random.randint(0, 2, size=(1, n))  # a random challenge vector\n",
        "    r = puf_query(c_test, w)\n",
        "    # r0 = puf_query(c_test, w0)\n",
        "\n",
        "    n = c_test.shape[1]\n",
        "    phi_test = np.ones(n+1)\n",
        "    phi_test[n] = 1\n",
        "    for j in range(n-1, -1, -1):\n",
        "          phi_test[j] = (2*c_test[0,j]-1)*phi_test[j+1]\n",
        "    r0 =  model.predict(phi_test.reshape(1, -1))\n",
        "    correct += (r==r0)\n",
        "\n",
        "    if i % 1000 == 0:\n",
        "      print(i)\n",
        "\n",
        "success_rate = correct/n_test\n",
        "print(\"Success rate:\", success_rate)\n",
        "\n",
        "# If the success rate is less than 99%, a penalty time will be added\n",
        "# One second is add for each 0.01% below 99%.\n",
        "effective_training_time = training_time\n",
        "if success_rate < 0.99:\n",
        "    effective_training_time = training_time + 10000*(0.99-success_rate)\n",
        "print(\"Effective training time:\", effective_training_time)"
      ],
      "metadata": {
        "colab": {
          "base_uri": "https://localhost:8080/"
        },
        "id": "0iUN5KH5PQlp",
        "outputId": "8517ef96-55c1-4378-a826-080c2ea9ee17"
      },
      "execution_count": 59,
      "outputs": [
        {
          "output_type": "stream",
          "name": "stdout",
          "text": [
            "1000\n",
            "2000\n",
            "3000\n",
            "4000\n",
            "5000\n",
            "6000\n",
            "7000\n",
            "8000\n",
            "9000\n",
            "10000\n",
            "Success rate: [0.9103]\n",
            "Effective training time: [797.78914058]\n"
          ]
        }
      ]
    },
    {
      "cell_type": "code",
      "source": [
        "from sklearn.ensemble import GradientBoostingClassifier\n",
        "\n",
        "t0 = time.process_time()\n",
        "\n",
        "\n",
        "model = GradientBoostingClassifier()\n",
        "model.fit(training_c, training_r)\n",
        "\n",
        "t1 = time.process_time()\n",
        "training_time = t1 - t0  # time taken to get w0\n",
        "print(\"Training time:\", training_time)\n",
        "print(\"Training size:\", training_size)\n",
        "\n"
      ],
      "metadata": {
        "colab": {
          "base_uri": "https://localhost:8080/"
        },
        "id": "uVxaoPwpybL5",
        "outputId": "e0620373-f0e2-41ff-d8e0-cd571918175f"
      },
      "execution_count": 61,
      "outputs": [
        {
          "output_type": "stream",
          "name": "stderr",
          "text": [
            "/usr/local/lib/python3.10/dist-packages/sklearn/ensemble/_gb.py:437: DataConversionWarning: A column-vector y was passed when a 1d array was expected. Please change the shape of y to (n_samples, ), for example using ravel().\n",
            "  y = column_or_1d(y, warn=True)\n"
          ]
        },
        {
          "output_type": "stream",
          "name": "stdout",
          "text": [
            "Training time: 3.2414217180000833\n",
            "Training size: 10000\n"
          ]
        }
      ]
    },
    {
      "cell_type": "code",
      "source": [
        "# Evaluate your result\n",
        "n_test = 10000\n",
        "correct = 0\n",
        "for i in range(1, n_test+1):\n",
        "    c_test = np.random.randint(0, 2, size=(1, n))  # a random challenge vector\n",
        "    r = puf_query(c_test, w)\n",
        "    # r0 = puf_query(c_test, w0)\n",
        "\n",
        "    n = c_test.shape[1]\n",
        "    phi_test = np.ones(n+1)\n",
        "    phi_test[n] = 1\n",
        "    for j in range(n-1, -1, -1):\n",
        "          phi_test[j] = (2*c_test[0,j]-1)*phi_test[j+1]\n",
        "    r0 =  model.predict(phi_test.reshape(1, -1))\n",
        "    correct += (r==r0)\n",
        "\n",
        "    if i % 1000 == 0:\n",
        "      print(i)\n",
        "\n",
        "success_rate = correct/n_test\n",
        "print(\"Success rate:\", success_rate)\n",
        "\n",
        "# If the success rate is less than 99%, a penalty time will be added\n",
        "# One second is add for each 0.01% below 99%.\n",
        "effective_training_time = training_time\n",
        "if success_rate < 0.99:\n",
        "    effective_training_time = training_time + 10000*(0.99-success_rate)\n",
        "print(\"Effective training time:\", effective_training_time)"
      ],
      "metadata": {
        "colab": {
          "base_uri": "https://localhost:8080/"
        },
        "id": "0jW0DjGeyi36",
        "outputId": "90fb3793-0312-452f-e589-4c3fa935c0de"
      },
      "execution_count": 62,
      "outputs": [
        {
          "output_type": "stream",
          "name": "stdout",
          "text": [
            "1000\n",
            "2000\n",
            "3000\n",
            "4000\n",
            "5000\n",
            "6000\n",
            "7000\n",
            "8000\n",
            "9000\n",
            "10000\n",
            "Success rate: [0.8742]\n",
            "Effective training time: [1161.24142172]\n"
          ]
        }
      ]
    },
    {
      "cell_type": "code",
      "source": [
        "from sklearn.ensemble import RandomForestClassifier\n",
        "\n",
        "t0 = time.process_time()\n",
        "\n",
        "\n",
        "model = RandomForestClassifier()\n",
        "model.fit(training_c, training_r)\n",
        "\n",
        "t1 = time.process_time()\n",
        "training_time = t1 - t0  # time taken to get w0\n",
        "print(\"Training time:\", training_time)\n",
        "print(\"Training size:\", training_size)\n",
        "\n"
      ],
      "metadata": {
        "colab": {
          "base_uri": "https://localhost:8080/"
        },
        "id": "XuzgBw0_zR8T",
        "outputId": "379cb240-f3ce-4993-ff70-6ba8043af1e7"
      },
      "execution_count": 63,
      "outputs": [
        {
          "output_type": "stream",
          "name": "stderr",
          "text": [
            "<ipython-input-63-85f7b98facde>:7: DataConversionWarning: A column-vector y was passed when a 1d array was expected. Please change the shape of y to (n_samples,), for example using ravel().\n",
            "  model.fit(training_c, training_r)\n"
          ]
        },
        {
          "output_type": "stream",
          "name": "stdout",
          "text": [
            "Training time: 1.916265175000035\n",
            "Training size: 10000\n"
          ]
        }
      ]
    },
    {
      "cell_type": "code",
      "source": [
        "# Evaluate your result\n",
        "n_test = 10000\n",
        "correct = 0\n",
        "for i in range(1, n_test+1):\n",
        "    c_test = np.random.randint(0, 2, size=(1, n))  # a random challenge vector\n",
        "    r = puf_query(c_test, w)\n",
        "    # r0 = puf_query(c_test, w0)\n",
        "\n",
        "    n = c_test.shape[1]\n",
        "    phi_test = np.ones(n+1)\n",
        "    phi_test[n] = 1\n",
        "    for j in range(n-1, -1, -1):\n",
        "          phi_test[j] = (2*c_test[0,j]-1)*phi_test[j+1]\n",
        "    r0 =  model.predict(phi_test.reshape(1, -1))\n",
        "    correct += (r==r0)\n",
        "\n",
        "    if i % 1000 == 0:\n",
        "      print(i)\n",
        "\n",
        "success_rate = correct/n_test\n",
        "print(\"Success rate:\", success_rate)\n",
        "\n",
        "# If the success rate is less than 99%, a penalty time will be added\n",
        "# One second is add for each 0.01% below 99%.\n",
        "effective_training_time = training_time\n",
        "if success_rate < 0.99:\n",
        "    effective_training_time = training_time + 10000*(0.99-success_rate)\n",
        "print(\"Effective training time:\", effective_training_time)"
      ],
      "metadata": {
        "colab": {
          "base_uri": "https://localhost:8080/"
        },
        "id": "kAVvYvOOzVhL",
        "outputId": "1bdd5e9b-1fa4-471f-eb3e-92963fb8dcfc"
      },
      "execution_count": 64,
      "outputs": [
        {
          "output_type": "stream",
          "name": "stdout",
          "text": [
            "1000\n",
            "2000\n",
            "3000\n",
            "4000\n",
            "5000\n",
            "6000\n",
            "7000\n",
            "8000\n",
            "9000\n",
            "10000\n",
            "Success rate: [0.8523]\n",
            "Effective training time: [1378.91626518]\n"
          ]
        }
      ]
    },
    {
      "cell_type": "code",
      "source": [
        "from sklearn.ensemble import BaggingClassifier\n",
        "\n",
        "t0 = time.process_time()\n",
        "\n",
        "\n",
        "model = BaggingClassifier()\n",
        "model.fit(training_c, training_r)\n",
        "\n",
        "t1 = time.process_time()\n",
        "training_time = t1 - t0  # time taken to get w0\n",
        "print(\"Training time:\", training_time)\n",
        "print(\"Training size:\", training_size)\n",
        "\n"
      ],
      "metadata": {
        "colab": {
          "base_uri": "https://localhost:8080/"
        },
        "id": "VQy4bot2z3OS",
        "outputId": "0dd0fd6e-1017-4c4f-f6ba-ac9875863d55"
      },
      "execution_count": 65,
      "outputs": [
        {
          "output_type": "stream",
          "name": "stderr",
          "text": [
            "/usr/local/lib/python3.10/dist-packages/sklearn/ensemble/_bagging.py:802: DataConversionWarning: A column-vector y was passed when a 1d array was expected. Please change the shape of y to (n_samples, ), for example using ravel().\n",
            "  y = column_or_1d(y, warn=True)\n"
          ]
        },
        {
          "output_type": "stream",
          "name": "stdout",
          "text": [
            "Training time: 0.894938965999927\n",
            "Training size: 10000\n"
          ]
        }
      ]
    },
    {
      "cell_type": "code",
      "source": [
        "# Evaluate your result\n",
        "n_test = 10000\n",
        "correct = 0\n",
        "for i in range(1, n_test+1):\n",
        "    c_test = np.random.randint(0, 2, size=(1, n))  # a random challenge vector\n",
        "    r = puf_query(c_test, w)\n",
        "    # r0 = puf_query(c_test, w0)\n",
        "\n",
        "    n = c_test.shape[1]\n",
        "    phi_test = np.ones(n+1)\n",
        "    phi_test[n] = 1\n",
        "    for j in range(n-1, -1, -1):\n",
        "          phi_test[j] = (2*c_test[0,j]-1)*phi_test[j+1]\n",
        "    r0 =  model.predict(phi_test.reshape(1, -1))\n",
        "    correct += (r==r0)\n",
        "\n",
        "    if i % 1000 == 0:\n",
        "      print(i)\n",
        "\n",
        "success_rate = correct/n_test\n",
        "print(\"Success rate:\", success_rate)\n",
        "\n",
        "# If the success rate is less than 99%, a penalty time will be added\n",
        "# One second is add for each 0.01% below 99%.\n",
        "effective_training_time = training_time\n",
        "if success_rate < 0.99:\n",
        "    effective_training_time = training_time + 10000*(0.99-success_rate)\n",
        "print(\"Effective training time:\", effective_training_time)"
      ],
      "metadata": {
        "colab": {
          "base_uri": "https://localhost:8080/"
        },
        "id": "7RqkRJRfz6l6",
        "outputId": "474ae9f0-4c7e-4a7d-a29e-3b1b08e1ba46"
      },
      "execution_count": 66,
      "outputs": [
        {
          "output_type": "stream",
          "name": "stdout",
          "text": [
            "1000\n",
            "2000\n",
            "3000\n",
            "4000\n",
            "5000\n",
            "6000\n",
            "7000\n",
            "8000\n",
            "9000\n",
            "10000\n",
            "Success rate: [0.7471]\n",
            "Effective training time: [2429.89493897]\n"
          ]
        }
      ]
    }
  ]
}